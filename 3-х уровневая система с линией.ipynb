{
 "cells": [
  {
   "cell_type": "code",
   "execution_count": 1,
   "id": "060d67da",
   "metadata": {},
   "outputs": [],
   "source": [
    "%matplotlib inline\n",
    "import matplotlib.pyplot as plt\n",
    "import numpy as np\n",
    "from qutip import *"
   ]
  },
  {
   "cell_type": "markdown",
   "id": "0b814a25",
   "metadata": {},
   "source": [
    "## Гамильтониан: \n",
    "$H=\\omega_q(a^\\dagger a+\\frac{1}{2})+ \\frac{\\alpha}{2} a^\\dagger a^\\dagger a a -{\\Omega}cos(w_d t)(a-a^\\dagger)$"
   ]
  },
  {
   "cell_type": "markdown",
   "id": "83db7c04",
   "metadata": {},
   "source": [
    "## Настройка параметров задачи:\n"
   ]
  },
  {
   "cell_type": "code",
   "execution_count": 2,
   "id": "52c36408",
   "metadata": {},
   "outputs": [],
   "source": [
    "wq = 6.5  * 2 * np.pi  # частота кубита\n",
    "Omega = 0.1  * 2 * np.pi  # сила связи\n",
    "alpha=0.2  * 2 * np.pi # ангармонизм\n",
    "wd=6.5  * 2 * np.pi # частота сигнала\n",
    "tlist = np.linspace(0,30,300)"
   ]
  },
  {
   "cell_type": "markdown",
   "id": "71f58a20",
   "metadata": {},
   "source": [
    "## Задание начального состояния, гамильтониана, операторов:"
   ]
  },
  {
   "cell_type": "code",
   "execution_count": 3,
   "id": "02e1500b",
   "metadata": {},
   "outputs": [],
   "source": [
    "#начальное состояние\n",
    "psi0 = basis(3,1)\n",
    "# гамильтониан\n",
    "a  = destroy(3)\n",
    "sx = sigmax()\n",
    "sy = sigmay()\n",
    "sz = sigmaz()\n",
    "\n",
    "one = basis(3,0)\n",
    "two = basis(3,1)\n",
    "three = basis(3,2)\n",
    "\n",
    "sig11 = one * one.dag()\n",
    "sig22 = two * two.dag()\n",
    "sig33 = three * three.dag()\n",
    "\n",
    "H0 = wq*(a*a.dag()+1/2)+alpha/2*a.dag()*a.dag()*a*a\n",
    "H1 = -Omega *(a-a.dag())\n",
    "H = [H0, [H1, 'cos(wd*t)']]\n",
    "H_args = {'wd': wd}"
   ]
  },
  {
   "cell_type": "markdown",
   "id": "122a31db",
   "metadata": {},
   "source": [
    "## Решение:"
   ]
  },
  {
   "cell_type": "code",
   "execution_count": 4,
   "id": "cb255661",
   "metadata": {},
   "outputs": [],
   "source": [
    "output = mesolve(H, psi0, tlist,{},[sig11, sig22, sig33],H_args)"
   ]
  },
  {
   "cell_type": "markdown",
   "id": "4fda6d2b",
   "metadata": {},
   "source": [
    "##  Визуализация:"
   ]
  },
  {
   "cell_type": "code",
   "execution_count": 6,
   "id": "9daf9fc9",
   "metadata": {},
   "outputs": [
    {
     "data": {
      "text/plain": [
       "Text(0, 0.5, 'Населенности уровней')"
      ]
     },
     "execution_count": 6,
     "metadata": {},
     "output_type": "execute_result"
    },
    {
     "data": {
      "image/png": "[encoded data removed]",
      "text/plain": [
       "<Figure size 720x432 with 1 Axes>"
      ]
     },
     "metadata": {
      "needs_background": "light"
     },
     "output_type": "display_data"
    }
   ],
   "source": [
    "p_0 = output.expect[0]\n",
    "p_1 = output.expect[1]\n",
    "p_2 = output.expect[2]\n",
    "fig, axes = plt.subplots(1, 1, figsize=(10,6))\n",
    "\n",
    "axes.plot(tlist, p_0, label=\"0 уровень\")\n",
    "axes.plot(tlist, p_1, label=\"1 уровень\")\n",
    "axes.plot(tlist, p_2, label=\"2 уровень\")\n",
    "\n",
    "axes.legend(loc=0)\n",
    "axes.set_xlabel('Время')\n",
    "axes.set_ylabel('Населенности уровней')"
   ]
  },
  {
   "cell_type": "code",
   "execution_count": null,
   "id": "18d36d9e",
   "metadata": {},
   "outputs": [],
   "source": []
  },
  {
   "cell_type": "code",
   "execution_count": null,
   "id": "86d25df3",
   "metadata": {},
   "outputs": [],
   "source": []
  }
 ],
 "metadata": {
  "kernelspec": {
   "display_name": "Python 3 (ipykernel)",
   "language": "python",
   "name": "python3"
  },
  "language_info": {
   "codemirror_mode": {
    "name": "ipython",
    "version": 3
   },
   "file_extension": ".py",
   "mimetype": "text/x-python",
   "name": "python",
   "nbconvert_exporter": "python",
   "pygments_lexer": "ipython3",
   "version": "3.10.5"
  }
 },
 "nbformat": 4,
 "nbformat_minor": 5
}
